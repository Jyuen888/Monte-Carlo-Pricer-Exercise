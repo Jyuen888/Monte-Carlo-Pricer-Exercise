{
 "cells": [
  {
   "cell_type": "markdown",
   "metadata": {
    "pycharm": {
     "name": "#%% md\n"
    }
   },
   "source": [
    "#### Part 1.\n",
    "\n",
    "A quanto option, unlike a normal European option that pays the final payoff in the denominated currency of the underlying stock or asset,\n",
    "it pays the final payoff in another currency at a pre-determined exchange rate.\n",
    "For example, a stock $S_a$ is listed on Singapore Exchange (SGX) and denominatd in SGD.\n",
    "A quanto call option allows the holder to receive the payoff $\\max(S_a-K, 0)$ in another currency (called the quanto currency), e.g., JPY,  at a pre-fixed exchange rate $F_0 = 100$.\n",
    "The payoff of the quanto call option in the stock's denominatd currency is thus\n",
    "$F_0 \\times \\max(S_a(T)-K, 0) \\times S_b(T)$ where $S_b$ is the value of one quanto currency in the unit of the stock's denominated currency.\n",
    "\n",
    "Assuming the stock and the quanto-denominated currency pair both follow geometric Brownian motion:\n",
    "\\begin{align}\n",
    "& dS_a(t) / S_a(t) = (r_d - r_a) dt + \\sigma_a dW_a \\\\\n",
    "& dS_b(t) / S_b(t) = (r_d - r_b) dt + \\sigma_b dW_b \\\\\n",
    "& dW_a dW_b = \\rho dt\n",
    "\\end{align}\n",
    "\n",
    "where $r_d$ is the risk free interest rate of the stock's denominated currency,\n",
    "$r_a$ is the continuous yield of the stock,\n",
    "and $r_b$ is the interest rate of the quanto currency,\n",
    "and $\\rho \\in [-1, 1]$ is the correlation between the stock price and the foreign exchange rate.\n",
    "\n",
    "The closed form solution for a quanto European call option is:\n",
    "\\begin{align}\n",
    "S_b(0) F e^{-r_bT}\\left( S_a(0) e^{(r_d - r_a + \\rho \\sigma_a \\sigma_b)T} N(d_+) - K N(d_-)  \\right).\n",
    "\\end{align}\n",
    "where\n",
    "\\begin{align*}\n",
    "d_{\\pm} = \\frac{\\ln \\frac{S_a(0)}{K} + (r_d - r_a + \\rho \\sigma_a \\sigma_b \\pm \\frac{1}{2}\\sigma_a^2)T}{\\sigma_a \\sqrt{T}}\n",
    "\\end{align*}"
   ]
  },
  {
   "cell_type": "markdown",
   "metadata": {},
   "source": [
    "We implement a function to compute the theoretical price of a quanto European call option, which would be used to compare the solution of our numerical pricer."
   ]
  },
  {
   "cell_type": "code",
   "execution_count": 537,
   "metadata": {
    "pycharm": {
     "name": "#%%\n"
    }
   },
   "outputs": [],
   "source": [
    "import math\n",
    "import numpy as np\n",
    "from scipy.stats import norm\n",
    "import matplotlib.pyplot as plt\n",
    "\n",
    "\n",
    "def quantoCallAnalytic(rd, ra, rb, sigmaA, sigmaB, rho, s_a0, s_b0, T, K, F0):\n",
    "    # Compute d+ and d-\n",
    "    dplus = (math.log(s_a0 / K) + (rd - ra + (rho * sigmaA * sigmaB) + 0.5 * sigmaA**2)*T) / (sigmaA * math.sqrt(T))\n",
    "    dminus = (math.log(s_a0 / K) + (rd - ra + (rho * sigmaA * sigmaB) - 0.5 * sigmaA**2)*T) / (sigmaA * math.sqrt(T))\n",
    "\n",
    "    # Compute cdf N(d+) and N(d-)\n",
    "    Ndplus = norm.cdf(dplus)\n",
    "    Ndminus = norm.cdf(dminus)\n",
    "\n",
    "    # Compute analytical price\n",
    "    expterm = ( rd - ra + rho * sigmaA * sigmaB ) * T # the exponential term\n",
    "    V = s_b0 * F0 * math.exp(-rb * T) * ( s_a0 * math.exp(expterm) * Ndplus - K * Ndminus )\n",
    "\n",
    "    return V \n",
    "    "
   ]
  },
  {
   "cell_type": "markdown",
   "metadata": {
    "pycharm": {
     "name": "#%% md\n"
    }
   },
   "source": [
    "Testing the theoretical pricer:"
   ]
  },
  {
   "cell_type": "code",
   "execution_count": 540,
   "metadata": {
    "pycharm": {
     "name": "#%%\n"
    }
   },
   "outputs": [
    {
     "name": "stdout",
     "output_type": "stream",
     "text": [
      "Quanto European Call Option price: 7.7023\n"
     ]
    }
   ],
   "source": [
    "s_a0, s_b0 = 100, 1/80\n",
    "T, K, F0 = 1,102,100,\n",
    "rd, ra, rb = 0.02, 0.05, 0.01\n",
    "sigmaA, sigmaB, rho=0.2, 0.15, 0.4\n",
    "\n",
    "res = quantoCallAnalytic(rd, ra, rb, sigmaA, sigmaB, rho, s_a0, s_b0, T, K, F0)\n",
    "\n",
    "print(f\"Quanto European Call Option price: {res:0.4f}\")"
   ]
  },
  {
   "cell_type": "markdown",
   "metadata": {
    "pycharm": {
     "name": "#%% md\n"
    }
   },
   "source": [
    "#### Part 2.\n",
    "\n",
    "Next, we implement a Monte Carlo pricer to price the quanto call option in the stock's denominated currency"
   ]
  },
  {
   "cell_type": "markdown",
   "metadata": {},
   "source": [
    "#### Formulation of the MC simulation\n",
    "The price of quanto European Call Option, evaluated at time t=0, using the risk-neutral expectation of payoff is:\n",
    "$$\n",
    "V(0,S_a,S_b) = \\mathbb{E}^Q[F_0 e^{-r_d T} (S_a(T)-K)^+ S_b(T)]\n",
    "$$\n",
    "\n",
    "and under the risk-neutral measure, $S_a(t), S_b(t)$ have the form:\n",
    "$$\n",
    "\\begin{split}\n",
    "    S_a(T) &= S_a(0)e^{(r_d-r_a - \\frac{\\sigma_a^2}{2})T + \\sigma_a W_{a,T}} = S_a(0)e^{(r_d-r_a - \\frac{\\sigma_a^2}{2})T + \\sigma_a \\sqrt{T}Z_a} \\\\\n",
    "    S_b(T) &= S_b(0)e^{(r_d-r_b - \\frac{\\sigma_b^2}{2})T + \\sigma_b W_{b,T}} = S_b(0)e^{(r_d-r_b - \\frac{\\sigma_b^2}{2})T + \\sigma_b \\sqrt{T}Z_b}\n",
    "\\end{split}\n",
    "$$\n",
    "where $<W_a,W_b>=\\rho T$, which implies $<Z_a,Z_b>=\\rho$ and $Z_a, Z_b \\sim N(0,1)$.\n",
    "\n",
    "The quanto option pricing is a 2-dimensional problem with 2 sources of randomness, hence we need to simulate 2 correlated Brownian motions. We will simulate the 2 correlated Brownian motions using the Cholesky decomposition.\n",
    "\n",
    "Let C be the correlation matrix, $C = \\left( \\begin{array}{cc} 1 & \\rho \\\\ \\rho & 1 \\end{array} \\right) $. Using Cholesky decomposition, we can rewrite $C = LL^T $ where $L \\in \\mathbb{R}^{2x2}$ is a lower triangle matrix.\n",
    "\n",
    "The correlated standard normal random vector $[\\xi_a,\\xi_b]^T$ can be generated using uncorrelated standard normal random vector $[\\zeta_a,\\zeta_b]^T$ using the relation below:\n",
    "$$\n",
    "\\left[ \\begin{array}{c} \\xi_a \\\\ \\xi_b \\end{array} \\right] = L_{[2x2]} \\left[ \\begin{array}{c} \\zeta_a \\\\ \\zeta_b \\end{array} \\right]\n",
    "$$\n",
    "\n",
    "The MC solution, $\\hat{\\mu}$, is given as\n",
    "$$\n",
    "\\begin{split}\n",
    "    V(0,S_a,S_b) &= \\mathbb{E}^Q[F_0 e^{-r_b T} (S_a(T)-K)^+ S_b(T)] =  \\mathbb{E}^Q[H(S_a(T), S_b(T))]\\\\\n",
    "     &\\approx \\hat{\\mu} = \\frac{1}{N} \\sum_{i=1}^N H(S_a(T)_i, S_b(T)_i) = \\frac{1}{N} \\sum_{i=1}^N F_0 e^{-r_b T} (S_a(T)_i-K)^+ S_b(T)_i\n",
    "\\end{split}\n",
    "$$\n",
    "\n",
    "with the standard error of the esimate, based on Central Limit Theorem, is given as\n",
    "$$\n",
    "SE = \\frac{\\sigma_H}{\\sqrt{N}}\n",
    "$$\n",
    "where $\\sigma_H$ is the standard deviation of the function $H(S_a(T), S_b(T))$, which is estimated using:\n",
    "$$\n",
    "\\sigma_H \\approx s_h = \\sqrt{\\frac{1}{N-1} \\sum_{i=1}^N (H_i - \\hat{\\mu})^2} \\approx \\sqrt{\\frac{1}{N} \\sum_{i=1}^N (H_i - \\hat{\\mu})^2}\n",
    "$$\n",
    "where we replaced (N-1) with N for simplicity.\n",
    "\n",
    "The standard error can then be expressed as:\n",
    "$$\n",
    "\\begin{split}\n",
    "    SE &= \\frac{s_H}{\\sqrt{N}} \\\\\n",
    "    &= \\frac{\\sqrt{\\frac{1}{N} \\sum_{i=1}^N (H_i - \\hat{\\mu})^2}}{\\sqrt{N}} \\\\\n",
    "    &= \\frac{1}{\\sqrt{N}} \\sqrt{ \\frac{\\sum_{i=1}^N H_i^2}{N} - \\left( \\frac{\\sum_{i=1}^N H_i}{N} \\right)^2 }\n",
    "\\end{split}\n",
    "$$"
   ]
  },
  {
   "cell_type": "markdown",
   "metadata": {
    "pycharm": {
     "name": "#%% md\n"
    }
   },
   "source": [
    "The Monte Carlo pricer is as below:"
   ]
  },
  {
   "cell_type": "code",
   "execution_count": 609,
   "metadata": {
    "pycharm": {
     "name": "#%%\n"
    }
   },
   "outputs": [],
   "source": [
    "def quantoCallOptionMC(rd, ra, rb, sigmaA, sigmaB, rho, s_a0, s_b0, T, K, F0, nPath):\n",
    "    # Compute lower triangular matrix L\n",
    "    C = np.array([[1,rho],[rho,1]]) # Correlation matrix\n",
    "    L = np.linalg.cholesky(C) # Cholesky decomposition\n",
    "\n",
    "    rng = np.random.default_rng(10)\n",
    "    sum_H = 0\n",
    "    sum_H_sq = 0\n",
    "\n",
    "    for _ in range(nPath):\n",
    "        # Generate correlated standard normal random vector\n",
    "        Z = rng.normal(size=(2,1))\n",
    "        Zc = L @ Z # Multiply with Cholesky decomposed lower triangular matrix L\n",
    "    \n",
    "        # Simulate terminal prices for underlying stock S_a(T) and quanto exchange rate s_b(T)\n",
    "        S_a = s_a0 * np.exp( (rd - ra - 0.5 * sigmaA**2)*T + sigmaA * np.sqrt(T) * Zc[0] )\n",
    "        S_b = s_b0 * np.exp( (rd - rb - 0.5 * sigmaB**2)*T + sigmaB * np.sqrt(T) * Zc[1] )\n",
    "    \n",
    "        # Compute discounted payoff function H\n",
    "        H = F0 * np.exp(-rd * T) * np.maximum( S_a - K, 0 ) * S_b\n",
    "        sum_H += H\n",
    "        # sum_H_sq += H**2\n",
    "    \n",
    "    # Compute MC estimate and standard error\n",
    "    mc = sum_H / nPath\n",
    "    # stderr = np.sqrt( ( (sum_H_sq / nPath) - (sum_H / nPath)**2 ) / nPath )\n",
    "\n",
    "    return mc #, stderr"
   ]
  },
  {
   "cell_type": "markdown",
   "metadata": {},
   "source": [
    "Testing our Monte Carlo pricer and comparing against the analytical solution we have in Part 1."
   ]
  },
  {
   "cell_type": "code",
   "execution_count": 662,
   "metadata": {},
   "outputs": [
    {
     "name": "stdout",
     "output_type": "stream",
     "text": [
      "MC Estimate: 7.7047\n",
      "Analytical: 7.7023\n"
     ]
    }
   ],
   "source": [
    "nPath = 400000\n",
    "# MC price\n",
    "mc = quantoCallOptionMC(rd, ra, rb, sigmaA, sigmaB, rho, s_a0, s_b0, T, K, F0, nPath)\n",
    "# Analytical price\n",
    "analy = quantoCallAnalytic(rd, ra, rb, sigmaA, sigmaB, rho, s_a0, s_b0, T, K, F0)\n",
    "print(f\"MC Estimate: {mc.item():.4f}\")\n",
    "print(f\"Analytical: {analy:.4f}\")"
   ]
  },
  {
   "cell_type": "markdown",
   "metadata": {},
   "source": [
    "Let us evaluate the convergence of our Monte Carlo pricer with respect to the number of simulation paths."
   ]
  },
  {
   "cell_type": "code",
   "execution_count": 563,
   "metadata": {},
   "outputs": [
    {
     "data": {
      "image/png": "[encoded data removed]",
      "text/plain": [
       "<Figure size 640x480 with 1 Axes>"
      ]
     },
     "metadata": {},
     "output_type": "display_data"
    }
   ],
   "source": [
    "nPath_list = [500, 2500, 5000, 10000, 25000, 50000, 75000, 100000, 250000, 500000]\n",
    "# Initialize list to store results for each nPath_list simulation\n",
    "mcprice = []\n",
    "# mcerror = []\n",
    "\n",
    "for nPath in nPath_list:\n",
    "    mc = quantoCallOptionMC(rd, ra, rb, sigmaA, sigmaB, rho, s_a0, s_b0, T, K, F0, nPath)\n",
    "    mcprice.append(mc)\n",
    "    # mcerror.append(stderr)\n",
    "    \n",
    "# Plot\n",
    "plt.plot(nPath_list,mcprice, label = \"MC Estimate\")\n",
    "plt.axhline(y=analy, color='red', linestyle='--',label=\"Analytical\")\n",
    "plt.xlabel(\"Number of paths (log scale)\")\n",
    "plt.xscale(\"log\")\n",
    "plt.ylabel(\"Quanto Option Price\")\n",
    "plt.title(\"Convergence of MC estimate\")\n",
    "plt.legend()\n",
    "plt.grid(True)\n",
    "\n",
    "# plt.figure()\n",
    "# plt.plot(nPath_list,mcerror)\n",
    "# plt.xlabel(\"Number of paths (log scale)\")\n",
    "# plt.xscale(\"log\")\n",
    "# plt.ylabel(\"MC Standard Error\")\n",
    "# plt.title(\"MC Standard Error\")\n",
    "# plt.grid(True)"
   ]
  },
  {
   "cell_type": "markdown",
   "metadata": {
    "pycharm": {
     "name": "#%% md\n"
    }
   },
   "source": [
    "#### Part 3.\n",
    "\n",
    "Let us also implement a Monte-Carlo pricer that prices quanto arithmetic Asian call option.\n",
    "A quanto arithmetic Asian call option pays the option holder $F_0 \\times \\max(A - K, 0)$ on the settlement date $t_s$ in the quanto currency, where\n",
    "\n",
    "\\begin{align}\n",
    "A = \\frac{1}{n}\\sum_{i=1}^n S_a(t_i).\n",
    "\\end{align}\n",
    "\n",
    "where $t_1 < t_2 < \\ldots < t_n \\leq t_s$. Equivalently, the payoff in the underlying's denominated currency is $F \\times \\max(A - K, 0) \\times S_b(t_s)$, where $S_b$ is the value of one quanto currency in the unit of underlying's denominated currency.\n",
    "\n",
    "Design the signature of the pricer, explain the main difference from the implementation in exercise 2.\n",
    "Conduct test cases that demonstrate the correctness of the implementation (e.g., for degenerate case with only 1 fixing, the closed form solution exists and the price converges).\n"
   ]
  },
  {
   "cell_type": "markdown",
   "metadata": {},
   "source": [
    "#### MC Simulation Formulation\n",
    "\n",
    "The risk-neutral pricing formula still holds, i.e.:\n",
    "$$\n",
    "V(0,S_a,S_b) = \\mathbb{E}^Q[F_0 e^{-r_d T} (A-K)^+ S_b(T)]\n",
    "$$\n",
    "where the payoff is now dependent on the path of the underlying stock price, $A = \\frac{1}{n}\\sum_{i=1}^n S_a(t_i)$.\n",
    "\n",
    "#### Pricer Algorithm\n",
    "\n",
    "Generate Cholesky decomposition matrix\n",
    "\n",
    "for N simulation paths:  \n",
    "&nbsp; for n fixing dates:  \n",
    "&nbsp; &nbsp; Generate (2 x n) i.i.d Brownian Motions  \n",
    "&nbsp; &nbsp; Generate (2 x n) correlated Brownian Motions  \n",
    "&nbsp; &nbsp; Compute the underlying stock price at each fixing dates  \n",
    "&nbsp; &nbsp; Generate quanto exchange rate $S_b$ at terminal timestep\n",
    "\n",
    "&nbsp; Compute path-dependent price average A\n",
    "\n",
    "&nbsp; Compute discounted payoff\n",
    "\n",
    "Compute MC average\n"
   ]
  },
  {
   "cell_type": "markdown",
   "metadata": {},
   "source": [
    "Our Monte Carlo pricer implementation is as below:"
   ]
  },
  {
   "cell_type": "code",
   "execution_count": 664,
   "metadata": {},
   "outputs": [],
   "source": [
    "def quantoArthAsianCallOptionMC(rd, ra, rb, sigmaA, sigmaB, rho, s_a0, s_b0, T, K, F0, nPath, nfixdates):\n",
    "    delta_t = T / nfixdates\n",
    "    # Compute lower triangular matrix L\n",
    "    C = np.array([[1,rho],[rho,1]]) # Correlation matrix\n",
    "    L = np.linalg.cholesky(C) # Cholesky decomposition\n",
    "\n",
    "    rng = np.random.default_rng(10)\n",
    "    sum_H = 0\n",
    "    sum_H_sq = 0\n",
    "\n",
    "    for _ in range(nPath):\n",
    "        S_a = np.zeros(nfixdates+1) # n fixing dates, but n+1 time index\n",
    "        S_a[0] = s_a0\n",
    "        # Generate correlated standard normal random vector\n",
    "        Z = rng.normal(size=(2,nfixdates))\n",
    "        Zc = L @ Z # Multiply with Cholesky decomposed lower triangular matrix L\n",
    "        for i in range(1,nfixdates+1):\n",
    "            # Simulate prices for underlying stock S_a(t) at each fixing dates\n",
    "            S_a[i] = S_a[i-1] * np.exp( (rd - ra - 0.5 * sigmaA**2)*delta_t + sigmaA * np.sqrt(delta_t) * Zc[0,i-1] )\n",
    "        \n",
    "        # Simulate quanto exchange rate at terminal time\n",
    "        S_b = s_b0 * np.exp( (rd - rb - 0.5 * sigmaB**2)*T + sigmaB * np.sqrt(T) * Zc[1,-1] )\n",
    "\n",
    "        # Compute arithmetic mean of stock price (sum of stock price from t1 to tn, excluding price at t0\n",
    "        At = np.sum(S_a[1:nfixdates+1]) / nfixdates\n",
    "        \n",
    "        # Compute discounted payoff function H\n",
    "        H = F0 * np.exp(-rd * T) * np.maximum( At - K, 0 ) * S_b\n",
    "        sum_H += H\n",
    "        # sum_H_sq += H**2\n",
    "    \n",
    "    # Compute MC estimate and standard error\n",
    "    mc = sum_H / nPath\n",
    "    # stderr = np.sqrt( ( (sum_H_sq / nPath) - (sum_H / nPath)**2 ) / nPath )\n",
    "\n",
    "    return mc #, stderr"
   ]
  },
  {
   "cell_type": "markdown",
   "metadata": {},
   "source": [
    "To evaluate the performance of our MC pricer for the quanto Arithmatic Asian call option, we could not compare against analytical solution as the closed-form solution for it does not exist. Instead, we take the limit as the number of fixing dates approaches 1, which should converge to the price of a quanto European Call Option."
   ]
  },
  {
   "cell_type": "code",
   "execution_count": 666,
   "metadata": {},
   "outputs": [
    {
     "name": "stdout",
     "output_type": "stream",
     "text": [
      "Analytical price of quanto European Call Option: 7.7023\n",
      "MC Estimate of quanto Arithmetic European Call Option: 7.7047\n"
     ]
    }
   ],
   "source": [
    "nfixdates = 1\n",
    "# MC estimate for quanto Arithmetic Call Option Price (degenerate case with 1 fixing date):\n",
    "arthmc = quantoArthAsianCallOptionMC(rd, ra, rb, sigmaA, sigmaB, rho, s_a0, s_b0, T, K, F0, nPath, nfixdates)\n",
    "print(f\"Analytical price of quanto European Call Option: {analy:.4f}\")\n",
    "print(f\"MC Estimate of quanto Arithmetic European Call Option: {arthmc.item():.4f}\")"
   ]
  },
  {
   "cell_type": "markdown",
   "metadata": {},
   "source": [
    "The MC estimate of the quanto Arithmetic European Call Option with 1 fixing date approximates the analytical price of a quanto European Call option, and hence our MC pricer for quanto Arithmetic Asian Call Option is acceptable.\n",
    "\n",
    "Furthermore, we can see from the plot below that the MC estimate price converges to the analytical price of a vanilla quanto European Call option as number of fixing dates approaches 1.\n",
    "\n",
    "Hence, the implementation is correct and behaves as expected."
   ]
  },
  {
   "cell_type": "code",
   "execution_count": 669,
   "metadata": {},
   "outputs": [
    {
     "data": {
      "text/plain": [
       "<matplotlib.legend.Legend at 0x16d024df0>"
      ]
     },
     "execution_count": 669,
     "metadata": {},
     "output_type": "execute_result"
    },
    {
     "data": {
      "image/png": "[encoded data removed]",
      "text/plain": [
       "<Figure size 640x480 with 1 Axes>"
      ]
     },
     "metadata": {},
     "output_type": "display_data"
    }
   ],
   "source": [
    "nfixdates_l = [1, 10, 20, 30]\n",
    "arthmc_l = np.array([quantoArthAsianCallOptionMC(rd, ra, rb, sigmaA, sigmaB, rho, s_a0, s_b0, T, K, F0, nPath, nfixdates) \\\n",
    "                     for nfixdates in nfixdates_l])\n",
    "plt.plot(nfixdates_l, arthmc_l,label=\"MC Estimate\")\n",
    "plt.xlabel(\"Number of fixing dates\")\n",
    "plt.ylabel(\"MC Estimate\")\n",
    "plt.title(\"MC Estimate of quanto Arithmetic European Call Option against number of fixing dates\")\n",
    "plt.axhline(y=analy, color='red', linestyle='--',label=\"Analytical\")\n",
    "plt.legend()"
   ]
  },
  {
   "cell_type": "markdown",
   "metadata": {},
   "source": [
    "\n",
    "\n",
    "#### Difference between Part 2 and Part 3\n",
    "The main difference between the implementation in Part 2 and Part 3 is that:\n",
    "1. In Part 2, we only need to keep track of the state variable, $S_a, S_b$, at the initial and terminal timestep, and only need 1 simulation of the Brownian Motion.\n",
    "2. In Part 3, we need to keep track of the state variable $S_a$ at each fixing dates, making it a path-dependent problem, requiring simulating number of Brownian Motions equal to the number of fixing dates for $S_a$, updating the state variable at each fixing dates as we progress through the algorithm. But only 1 simulation for $S_b$ as in Part 2."
   ]
  },
  {
   "cell_type": "markdown",
   "metadata": {},
   "source": [
    "#### State variable and step-wise induction formula for Part 3\n",
    "\n",
    "The state variable used in the implementation above is $S_a$. Since $S_a$ has an explicit solution under Black-Scholes model, hence Euler discretization approximation scheme is not required here.\n",
    "\n",
    "The step-wise induction formula can be derived as follows, for $t_2 > t_1$, we have that:\n",
    "\n",
    "$$\n",
    "\\begin{split}\n",
    "    X(t) &= S_a(t) \\\\\n",
    "    dX(t) &= dS_a(t) = (r_d - r_a) S_a dt + \\sigma_a S_a dW_a \\\\\n",
    "    \\int_0^{t_1} \\frac{dS_a(t)}{S_a(t)} &= \\int_0^{t_1} (r_d-r_a)dt + \\sigma_a dW_a \\\\\n",
    "    \\Rightarrow S_a(t_1) &= S_a(0) e^{(r_d-r_a-\\frac{\\sigma_a^2}{2})t_1 + \\sigma_a W_{t_1}} \\\\\n",
    "    S_a(t_2) &= S_a(0) e^{(r_d-r_a-\\frac{\\sigma_a^2}{2})t_2 + \\sigma_a W_{t_2}} \\\\\n",
    "    \\Rightarrow \\frac{S_a(t_2)}{S_a(t_1)} &= e^{(r_d-r_a-\\frac{\\sigma_a^2}{2})(t_2-t_1) + \\sigma_a (W_{t_2}-W_{t_1})} \\\\\n",
    "    S_a(t_2) &= S_a(t_1) e^{(r_d-r_a-\\frac{\\sigma_a^2}{2})(t_2 - t_1) + \\sigma_a (W_{t_2}-W_{t_1})}\n",
    "\\end{split}\n",
    "$$\n",
    "\n",
    "The step-wise induction formula of the state variable is thus\n",
    "$$\n",
    "S_a(t_{i+1}) = S_a(t_i) e^{(r_d-r_a-\\frac{\\sigma_a^2}{2})(\\Delta t) + \\sigma_a \\Delta W_t}\n",
    "$$\n",
    "where $\\Delta t = t_{i+1} - t_i$ and $\\Delta W_t = W_{t_{i+1}} - W_{t_i}$."
   ]
  },
  {
   "cell_type": "code",
   "execution_count": null,
   "metadata": {},
   "outputs": [],
   "source": []
  }
 ],
 "metadata": {
  "kernelspec": {
   "display_name": "Python [conda env:base] *",
   "language": "python",
   "name": "conda-base-py"
  },
  "language_info": {
   "codemirror_mode": {
    "name": "ipython",
    "version": 3
   },
   "file_extension": ".py",
   "mimetype": "text/x-python",
   "name": "python",
   "nbconvert_exporter": "python",
   "pygments_lexer": "ipython3",
   "version": "3.10.13"
  }
 },
 "nbformat": 4,
 "nbformat_minor": 4
}
